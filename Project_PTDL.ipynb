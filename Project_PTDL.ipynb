{
 "cells": [
  {
   "cell_type": "markdown",
   "id": "81b28c08",
   "metadata": {},
   "source": [
    "#  <div style=\"text-align: center\"> Store sales forecasting </div>"
   ]
  },
  {
   "cell_type": "markdown",
   "id": "cb6db46d",
   "metadata": {},
   "source": [
    "###  <div style=\"text-align: center\"> Thành viên nhóm </div>\n",
    "|Họ và tên| MSSV  | \n",
    "|----------|-------------|\n",
    "|Võ Quốc Huy|     20081001       | \n",
    "|  Nguyễn Quang Bảo       |     20083601      |   \n",
    "|  Nguyễn Xuân Giang       |     20079601       |   \n",
    "|  Ngô Hoàng Nhật Huy       |     20079071       |    \n"
   ]
  },
  {
   "cell_type": "markdown",
   "id": "69eb3ce7",
   "metadata": {
    "papermill": {
     "duration": 0.023315,
     "end_time": "2022-01-18T09:03:54.234566",
     "exception": false,
     "start_time": "2022-01-18T09:03:54.211251",
     "status": "completed"
    },
    "tags": []
   },
   "source": [
    "# Import các thư viện cần thiết"
   ]
  },
  {
   "cell_type": "code",
   "execution_count": null,
   "id": "9f7438aa",
   "metadata": {
    "_cell_guid": "b1076dfc-b9ad-4769-8c92-a6c4dae69d19",
    "_kg_hide-input": true,
    "_kg_hide-output": true,
    "_uuid": "8f2839f25d086af736a60e9eeb907d3b93b6e0e5",
    "execution": {
     "iopub.execute_input": "2022-01-18T09:03:54.285885Z",
     "iopub.status.busy": "2022-01-18T09:03:54.284801Z",
     "iopub.status.idle": "2022-01-18T09:03:57.609331Z",
     "shell.execute_reply": "2022-01-18T09:03:57.608748Z",
     "shell.execute_reply.started": "2022-01-18T08:56:32.812980Z"
    },
    "papermill": {
     "duration": 3.351356,
     "end_time": "2022-01-18T09:03:57.609523",
     "exception": false,
     "start_time": "2022-01-18T09:03:54.258167",
     "status": "completed"
    },
    "tags": []
   },
   "outputs": [],
   "source": [
    "import pandas as pd\n",
    "import numpy as np\n",
    "import matplotlib as mpl\n",
    "import matplotlib.pyplot as plt\n",
    "import calendar\n",
    "import plotly.express as px\n",
    "from plotly.subplots import make_subplots\n",
    "import plotly.figure_factory as ff\n",
    "import plotly.offline as offline\n",
    "import plotly.graph_objs as go\n",
    "offline.init_notebook_mode(connected = True)\n",
    "import dash\n",
    "from dash import html,dcc"
   ]
  },
  {
   "cell_type": "code",
   "execution_count": null,
   "id": "90f2cf85",
   "metadata": {
    "_kg_hide-input": true,
    "execution": {
     "iopub.execute_input": "2022-01-18T09:04:12.221674Z",
     "iopub.status.busy": "2022-01-18T09:04:12.221060Z",
     "iopub.status.idle": "2022-01-18T09:04:12.226940Z",
     "shell.execute_reply": "2022-01-18T09:04:12.227416Z",
     "shell.execute_reply.started": "2022-01-18T08:56:54.778768Z"
    },
    "papermill": {
     "duration": 0.039562,
     "end_time": "2022-01-18T09:04:12.227589",
     "exception": false,
     "start_time": "2022-01-18T09:04:12.188027",
     "status": "completed"
    },
    "tags": []
   },
   "outputs": [],
   "source": [
    "colors={}\n",
    "def colorFader(c1,c2,mix=0): \n",
    "    c1=np.array(mpl.colors.to_rgb(c1))\n",
    "    c2=np.array(mpl.colors.to_rgb(c2))\n",
    "    return mpl.colors.to_hex((1-mix)*c1 + mix*c2)\n",
    "c1='#FAA831' \n",
    "c2='#9A4800' \n",
    "n=9\n",
    "for x in range(n+1):\n",
    "    colors['level'+ str(n-x+1)] = colorFader(c1,c2,x/n) \n",
    "colors['background'] = '#232425'\n",
    "colors['text'] = '#fff'\n"
   ]
  },
  {
   "cell_type": "markdown",
   "id": "fb8a060a",
   "metadata": {
    "papermill": {
     "duration": 0.023811,
     "end_time": "2022-01-18T09:03:57.658095",
     "exception": false,
     "start_time": "2022-01-18T09:03:57.634284",
     "status": "completed"
    },
    "tags": []
   },
   "source": [
    "# Đọc dữ liệu từ file csv"
   ]
  },
  {
   "cell_type": "code",
   "execution_count": null,
   "id": "44444e61",
   "metadata": {
    "_kg_hide-input": true,
    "execution": {
     "iopub.execute_input": "2022-01-18T09:03:57.710158Z",
     "iopub.status.busy": "2022-01-18T09:03:57.709523Z",
     "iopub.status.idle": "2022-01-18T09:04:00.532712Z",
     "shell.execute_reply": "2022-01-18T09:04:00.533225Z",
     "shell.execute_reply.started": "2022-01-18T08:56:36.108774Z"
    },
    "papermill": {
     "duration": 2.850608,
     "end_time": "2022-01-18T09:04:00.533426",
     "exception": false,
     "start_time": "2022-01-18T09:03:57.682818",
     "status": "completed"
    },
    "tags": []
   },
   "outputs": [],
   "source": [
    "df_holi = pd.read_csv('data/holidays_events.csv')\n",
    "df_oil = pd.read_csv('data/oil.csv')\n",
    "df_stores = pd.read_csv('data/stores.csv')\n",
    "df_trans = pd.read_csv('data/transactions.csv')\n",
    "df_train = pd.read_csv('data/train.csv')\n",
    "df_test = pd.read_csv('data/test.csv')"
   ]
  },
  {
   "cell_type": "markdown",
   "id": "beb19546",
   "metadata": {},
   "source": [
    "# Giới thiệu dữ liệu"
   ]
  },
  {
   "cell_type": "markdown",
   "id": "b018ed85",
   "metadata": {},
   "source": [
    "Đây là bộ dữ liệu về doanh số bán hàng của cửa hàng Favorita ở Ecuador<br>\n",
    "**Train.csv**<br>\n",
    "    - Tập dữ liệu bao gồm chuỗi thời gian của các tính năng store_nbr , family và onpromotion cũng như doanh số mục tiêu .<br>\n",
    "    - **store_nbr** xác định cửa hàng bán sản phẩm.<br>\n",
    "    - **family** xác định loại sản phẩm được bán.<br>\n",
    "        - **sales** cung cấp tổng doanh số cho một dòng sản phẩm tại một cửa hàng cụ thể vào một ngày nhất định. Giá trị phân số có thể thực hiện được vì các sản phẩm có thể được bán theo đơn vị phân số (ví dụ: 1,5 kg phô mai thay vì 1 túi khoai tây chiên).<br>\n",
    "    - **onpromotion** cung cấp tổng số mặt hàng trong một dòng sản phẩm đang được khuyến mãi tại một cửa hàng vào một ngày nhất định.<br>\n",
    "    \n",
    "**Test.csv**<br>\n",
    "    - Dữ liệu ở tập test này khá giống tập trai ở trên.<br>\n",
    "    \n",
    "**Stores.csv**<br>\n",
    "    - Lưu trữ siêu dữ liệu, bao gồm: **city** , **state** , **type** và **cluter**.<br>\n",
    "    - **cluter** là một nhóm các cửa hàng tương tự.<br>\n",
    "\n",
    "**oil.csv**<br>\n",
    "    - Giá dầu hàng ngày. Bao gồm các giá trị trong cả khung thời gian train và test dữ liệu. (Ecuador là một quốc gia phụ thuộc vào dầu mỏ và nền kinh tế của nước này rất dễ bị tổn thương trước những cú sốc về giá dầu.)<br>\n",
    "    \n",
    "**holidays_events.csv**<br>\n",
    "    - Tập dữ liệu bao gồm các ngày lễ và sự kiện ở Ecuador<br>\n",
    "    \n",
    "**transactions.csv**<br>\n",
    "    - Ngày giao dịch tại các cửa hàng"
   ]
  },
  {
   "cell_type": "markdown",
   "id": "41237dd5",
   "metadata": {
    "papermill": {
     "duration": 0.029023,
     "end_time": "2022-01-18T09:04:03.162883",
     "exception": false,
     "start_time": "2022-01-18T09:04:03.133860",
     "status": "completed"
    },
    "tags": []
   },
   "source": [
    "# Gộp dữ liệu"
   ]
  },
  {
   "cell_type": "code",
   "execution_count": null,
   "id": "7b0b1fe2",
   "metadata": {
    "_kg_hide-input": false,
    "_kg_hide-output": true,
    "execution": {
     "iopub.execute_input": "2022-01-18T09:04:03.332787Z",
     "iopub.status.busy": "2022-01-18T09:04:03.332103Z",
     "iopub.status.idle": "2022-01-18T09:04:12.157199Z",
     "shell.execute_reply": "2022-01-18T09:04:12.156700Z",
     "shell.execute_reply.started": "2022-01-18T08:56:44.070155Z"
    },
    "papermill": {
     "duration": 8.959104,
     "end_time": "2022-01-18T09:04:12.157351",
     "exception": false,
     "start_time": "2022-01-18T09:04:03.198247",
     "status": "completed"
    },
    "tags": []
   },
   "outputs": [],
   "source": [
    "df_train1 = df_train.merge(df_holi, on = 'date', how='left')\n",
    "df_train1 = df_train1.merge(df_oil, on = 'date', how='left')\n",
    "df_train1 = df_train1.merge(df_stores, on = 'store_nbr', how='left')\n",
    "df_train1 = df_train1.merge(df_trans, on = ['date', 'store_nbr'], how='left')\n",
    "df_train1 = df_train1.rename(columns = {\"type_x\" : \"holiday_type\", \"type_y\" : \"store_type\"})\n",
    "\n",
    "df_train1['date'] = pd.to_datetime(df_train1['date'])\n",
    "df_train1['year'] = df_train1['date'].dt.year\n",
    "df_train1['month'] = df_train1['date'].dt.month\n",
    "df_train1['week'] = df_train1['date'].dt.isocalendar().week\n",
    "df_train1['quarter'] = df_train1['date'].dt.quarter\n",
    "df_train1['day_of_week'] = df_train1['date'].dt.day_name()\n",
    "df_train1.head()"
   ]
  },
  {
   "cell_type": "markdown",
   "id": "82339438",
   "metadata": {},
   "source": [
    "# Làm sạch dữ liệu"
   ]
  },
  {
   "cell_type": "code",
   "execution_count": null,
   "id": "0c43b039",
   "metadata": {},
   "outputs": [],
   "source": [
    "df_train1.shape"
   ]
  },
  {
   "cell_type": "code",
   "execution_count": null,
   "id": "65134869",
   "metadata": {},
   "outputs": [],
   "source": [
    "df_train1.dropna(inplace=True)"
   ]
  },
  {
   "cell_type": "code",
   "execution_count": null,
   "id": "159ab3e5",
   "metadata": {},
   "outputs": [],
   "source": [
    "df_train1.shape"
   ]
  },
  {
   "cell_type": "code",
   "execution_count": null,
   "id": "1a86aee6",
   "metadata": {},
   "outputs": [],
   "source": [
    "df_train1.head()"
   ]
  },
  {
   "cell_type": "markdown",
   "id": "a6ddfb20",
   "metadata": {},
   "source": [
    "# Khám phá dữ liệu"
   ]
  },
  {
   "cell_type": "markdown",
   "id": "9c7ff18f",
   "metadata": {
    "papermill": {
     "duration": 0.030572,
     "end_time": "2022-01-18T09:04:12.357259",
     "exception": false,
     "start_time": "2022-01-18T09:04:12.326687",
     "status": "completed"
    },
    "tags": []
   },
   "source": [
    "## Phân tích doanh thu trung bình của cửa hàng \n",
    "### Top 10 sản phẩm bán chạy nhất "
   ]
  },
  {
   "cell_type": "code",
   "execution_count": null,
   "id": "f2855906",
   "metadata": {
    "_kg_hide-input": true,
    "execution": {
     "iopub.execute_input": "2022-01-18T09:04:12.421829Z",
     "iopub.status.busy": "2022-01-18T09:04:12.421204Z",
     "iopub.status.idle": "2022-01-18T09:04:12.690666Z",
     "shell.execute_reply": "2022-01-18T09:04:12.691113Z",
     "shell.execute_reply.started": "2022-01-18T08:56:54.808805Z"
    },
    "papermill": {
     "duration": 0.303237,
     "end_time": "2022-01-18T09:04:12.691271",
     "exception": false,
     "start_time": "2022-01-18T09:04:12.388034",
     "status": "completed"
    },
    "tags": []
   },
   "outputs": [],
   "source": [
    "df_fa_sa = df_train1.groupby('family').agg({\"sales\" : \"mean\"}).reset_index().sort_values(by='sales', ascending=False)[:10]\n",
    "df_fa_sa['color'] = colors['level10']\n",
    "df_fa_sa['color'][:1] = colors['level1']\n",
    "df_fa_sa['color'][1:2] = colors['level2']\n",
    "df_fa_sa['color'][2:3] = colors['level3']\n",
    "df_fa_sa['color'][3:4] = colors['level4']\n",
    "df_fa_sa['color'][4:5] = colors['level5']\n",
    "\n",
    "fig1 = go.Figure(data=[go.Bar(x=df_fa_sa['sales'],\n",
    "                             y=df_fa_sa['family'], \n",
    "                             marker=dict(color= df_fa_sa['color']),\n",
    "                             name='Family', orientation='h',\n",
    "                             text=df_fa_sa['sales'].astype(int),\n",
    "                             textposition='auto',\n",
    "                             hoverinfo='text',\n",
    "                             hovertext=\n",
    "                            '<b>Family</b>:'+ df_fa_sa['family'] +'<br>' +\n",
    "                            '<b>Sales</b>:'+ df_fa_sa['sales'].astype(int).astype(str) +'<br>' ,\n",
    "                            # hovertemplate='Family: %{y}'+'<br>Sales: $%{x:.0f}'\n",
    "                            )])\n",
    "fig1.update_layout(title_text='Top 10 sản phẩm bán chạy nhất ',paper_bgcolor=colors['background'],plot_bgcolor=colors['background'],\n",
    "                font=dict(\n",
    "                size=14,\n",
    "                color='white'))\n",
    "\n",
    "fig1.update_yaxes(showgrid=False, categoryorder='total ascending')\n",
    "\n"
   ]
  },
  {
   "cell_type": "markdown",
   "id": "bc77fc82",
   "metadata": {},
   "source": [
    "**Sản phẩm bán chạy nhất là: GROCREY và BEVERAGES**"
   ]
  },
  {
   "cell_type": "markdown",
   "id": "379c733a",
   "metadata": {
    "papermill": {
     "duration": 0.034893,
     "end_time": "2022-01-18T09:04:12.763261",
     "exception": false,
     "start_time": "2022-01-18T09:04:12.728368",
     "status": "completed"
    },
    "tags": []
   },
   "source": [
    "### Doanh số bán hàng trung bình với loại cửa hàng"
   ]
  },
  {
   "cell_type": "code",
   "execution_count": null,
   "id": "704a04bb",
   "metadata": {
    "_kg_hide-input": true,
    "execution": {
     "iopub.execute_input": "2022-01-18T09:04:12.837028Z",
     "iopub.status.busy": "2022-01-18T09:04:12.836127Z",
     "iopub.status.idle": "2022-01-18T09:04:13.067725Z",
     "shell.execute_reply": "2022-01-18T09:04:13.068188Z",
     "shell.execute_reply.started": "2022-01-18T08:56:55.173792Z"
    },
    "papermill": {
     "duration": 0.270073,
     "end_time": "2022-01-18T09:04:13.068351",
     "exception": false,
     "start_time": "2022-01-18T09:04:12.798278",
     "status": "completed"
    },
    "tags": []
   },
   "outputs": [],
   "source": [
    "df_st_sa = df_train1.groupby('store_type').agg({\"sales\" : \"mean\"}).reset_index().sort_values(by='sales', ascending=False)\n",
    "fig2=go.Figure(data=[go.Pie(values=df_st_sa['sales'], labels=df_st_sa['store_type'], name='Store type',\n",
    "                     marker=dict(colors=[colors['level1'],colors['level3'],colors['level5'],colors['level7'],colors['level9']]), hole=0.7,\n",
    "                     hoverinfo='label+percent+value', textinfo='label'\n",
    "                    )])\n",
    "fig2.update_layout(title_text='Doanh số bán hàng trung bình với loại cửa hàng',paper_bgcolor=colors['background'],plot_bgcolor='#1f2c56',\n",
    "                font=dict(\n",
    "                size=14,\n",
    "                color='white'))\n",
    "fig2.update_yaxes(showgrid=False, categoryorder='total ascending')"
   ]
  },
  {
   "cell_type": "markdown",
   "id": "3ea76dcf",
   "metadata": {},
   "source": [
    "**Cửa hàng loại A có doanh số bán hàng cao nhất với 38%.**"
   ]
  },
  {
   "cell_type": "markdown",
   "id": "7d145948",
   "metadata": {
    "papermill": {
     "duration": 0.040053,
     "end_time": "2022-01-18T09:04:13.148709",
     "exception": false,
     "start_time": "2022-01-18T09:04:13.108656",
     "status": "completed"
    },
    "tags": []
   },
   "source": [
    "### Cụm cửa hàng và doanh số bán hàng"
   ]
  },
  {
   "cell_type": "code",
   "execution_count": null,
   "id": "0bd48676",
   "metadata": {
    "_kg_hide-input": true,
    "execution": {
     "iopub.execute_input": "2022-01-18T09:04:13.237855Z",
     "iopub.status.busy": "2022-01-18T09:04:13.236917Z",
     "iopub.status.idle": "2022-01-18T09:04:13.320147Z",
     "shell.execute_reply": "2022-01-18T09:04:13.319494Z",
     "shell.execute_reply.started": "2022-01-18T08:56:55.489525Z"
    },
    "papermill": {
     "duration": 0.126537,
     "end_time": "2022-01-18T09:04:13.320290",
     "exception": false,
     "start_time": "2022-01-18T09:04:13.193753",
     "status": "completed"
    },
    "tags": []
   },
   "outputs": [],
   "source": [
    "df_cl_sa = df_train1.groupby('cluster').agg({\"sales\" : \"mean\"}).reset_index().sort_values(by='sales', ascending=False)\n",
    "df_cl_sa['color'] = colors['level10']\n",
    "df_cl_sa['color'][:1] = colors['level1']\n",
    "df_cl_sa['color'][1:2] = colors['level2']\n",
    "df_cl_sa['color'][2:3] = colors['level3']\n",
    "df_cl_sa['color'][3:4] = colors['level4']\n",
    "df_cl_sa['color'][4:5] = colors['level5']\n",
    "fig3 = go.Figure(data=[go.Bar(y=df_cl_sa['sales'],\n",
    "                             x=df_cl_sa['cluster'], \n",
    "                             marker=dict(color= df_cl_sa['color']),\n",
    "                             name='Cluster',\n",
    "                             text=df_cl_sa['sales'].astype(int),\n",
    "                             textposition='auto',\n",
    "                             hoverinfo='text',\n",
    "                             hovertext=\n",
    "                            '<b>Cluster</b>:'+ df_cl_sa['cluster'].astype(str) +'<br>' +\n",
    "                            '<b>Sales</b>:'+ df_cl_sa['sales'].astype(int).astype(str) +'<br>' ,\n",
    "                            # hovertemplate='Family: %{y}'+'<br>Sales: $%{x:.0f}'\n",
    "                            )])\n",
    "fig3.update_layout(title_text='Clusters Vs Sales',paper_bgcolor=colors['background'],plot_bgcolor=colors['background'],\n",
    "                font=dict(\n",
    "                size=14,\n",
    "                color='white'))\n",
    "\n",
    "fig3.update_xaxes(tickmode = 'array', tickvals=df_cl_sa.cluster)\n",
    "fig3.update_yaxes(showgrid=False)"
   ]
  },
  {
   "cell_type": "markdown",
   "id": "88980310",
   "metadata": {},
   "source": [
    "**Cụm 5 có doanh số bán hàng cao nhất**"
   ]
  },
  {
   "cell_type": "markdown",
   "id": "28337fa5",
   "metadata": {
    "papermill": {
     "duration": 0.044589,
     "end_time": "2022-01-18T09:04:13.410194",
     "exception": false,
     "start_time": "2022-01-18T09:04:13.365605",
     "status": "completed"
    },
    "tags": []
   },
   "source": [
    "### Doanh số bán hàng trung bình giữa các thành phố"
   ]
  },
  {
   "cell_type": "code",
   "execution_count": null,
   "id": "c3b1b5ae",
   "metadata": {
    "_kg_hide-input": true,
    "execution": {
     "iopub.execute_input": "2022-01-18T09:04:13.564038Z",
     "iopub.status.busy": "2022-01-18T09:04:13.563358Z",
     "iopub.status.idle": "2022-01-18T09:04:13.739163Z",
     "shell.execute_reply": "2022-01-18T09:04:13.739640Z",
     "shell.execute_reply.started": "2022-01-18T08:56:55.587001Z"
    },
    "papermill": {
     "duration": 0.284763,
     "end_time": "2022-01-18T09:04:13.739804",
     "exception": false,
     "start_time": "2022-01-18T09:04:13.455041",
     "status": "completed"
    },
    "tags": []
   },
   "outputs": [],
   "source": [
    "df_city_sa = df_train1.groupby('city').agg({\"sales\" : \"mean\"}).reset_index().sort_values(by='sales', ascending=False)\n",
    "df_city_sa['color'] = colors['level10']\n",
    "df_city_sa['color'][:1] = colors['level1']\n",
    "df_city_sa['color'][1:2] = colors['level2']\n",
    "df_city_sa['color'][2:3] = colors['level3']\n",
    "df_city_sa['color'][3:4] = colors['level4']\n",
    "df_city_sa['color'][4:5] = colors['level5']\n",
    "\n",
    "fig4 = go.Figure(data=[go.Bar(y=df_city_sa['sales'],\n",
    "                             x=df_city_sa['city'], \n",
    "                             marker=dict(color= df_city_sa['color']),\n",
    "                             name='State',\n",
    "                             text=df_city_sa['sales'].astype(int),\n",
    "                             textposition='auto',\n",
    "                             hoverinfo='text',\n",
    "                             hovertext=\n",
    "                            '<b>City</b>:'+ df_city_sa['city'] +'<br>' +\n",
    "                            '<b>Sales</b>:'+ df_city_sa['sales'].astype(int).astype(str) +'<br>' ,\n",
    "                            # hovertemplate='Family: %{y}'+'<br>Sales: $%{x:.0f}'\n",
    "                            )])\n",
    "fig4.update_layout(title_text='Doanh số bán hàng trung bình giữa các thành phố',paper_bgcolor=colors['background'],plot_bgcolor=colors['background'],\n",
    "                font=dict(\n",
    "                size=14,\n",
    "                color='white'))\n",
    "\n",
    "fig4.update_yaxes(showgrid=False, categoryorder='total ascending')"
   ]
  },
  {
   "cell_type": "markdown",
   "id": "cb978aa4",
   "metadata": {},
   "source": [
    "**2 thành phố có doanh thu trung bình cao nhất là Quito và Cayambe**"
   ]
  },
  {
   "cell_type": "markdown",
   "id": "345a6dd2",
   "metadata": {
    "papermill": {
     "duration": 0.050244,
     "end_time": "2022-01-18T09:04:13.839951",
     "exception": false,
     "start_time": "2022-01-18T09:04:13.789707",
     "status": "completed"
    },
    "tags": []
   },
   "source": [
    "### Top 5 khu vực có doanh số bán hàng trung bình cao nhất"
   ]
  },
  {
   "cell_type": "code",
   "execution_count": null,
   "id": "7d909f52",
   "metadata": {
    "_kg_hide-input": true,
    "execution": {
     "iopub.execute_input": "2022-01-18T09:04:13.949888Z",
     "iopub.status.busy": "2022-01-18T09:04:13.948970Z",
     "iopub.status.idle": "2022-01-18T09:04:14.188581Z",
     "shell.execute_reply": "2022-01-18T09:04:14.188048Z",
     "shell.execute_reply.started": "2022-01-18T08:56:55.899791Z"
    },
    "papermill": {
     "duration": 0.298453,
     "end_time": "2022-01-18T09:04:14.188735",
     "exception": false,
     "start_time": "2022-01-18T09:04:13.890282",
     "status": "completed"
    },
    "tags": []
   },
   "outputs": [],
   "source": [
    "df_state_sa = df_train1.groupby('state').agg({\"sales\" : \"mean\"}).reset_index().sort_values(by='sales', ascending=False)[:5]\n",
    "df_state_sa['color'] = colors['level10']\n",
    "df_state_sa['color'][:1] = colors['level1']\n",
    "df_state_sa['color'][1:2] = colors['level2']\n",
    "df_state_sa['color'][2:3] = colors['level3']\n",
    "df_state_sa['color'][3:4] = colors['level4']\n",
    "df_state_sa['color'][4:5] = colors['level5']\n",
    "df_state_sa\n",
    "fig5 = go.Figure(data=[go.Bar(y=df_state_sa['sales'],\n",
    "                             x=df_state_sa['state'], \n",
    "                             marker=dict(color= df_state_sa['color']),\n",
    "                             name='State',\n",
    "                             text=df_state_sa['sales'].astype(int),\n",
    "                             textposition='auto',\n",
    "                             hoverinfo='text',\n",
    "                             hovertext=\n",
    "                            '<b>State</b>:'+ df_state_sa['state'] +'<br>' +\n",
    "                            '<b>Sales</b>:'+ df_state_sa['sales'].astype(int).astype(str) +'<br>' ,\n",
    "                            # hovertemplate='Family: %{y}'+'<br>Sales: $%{x:.0f}'\n",
    "                            )])\n",
    "fig5.update_layout(title_text='Top 5 doanh số bán hàng trung bình cao nhất giữa các khu vực',paper_bgcolor=colors['background'],plot_bgcolor=colors['background'],\n",
    "                font=dict(\n",
    "                size=14,\n",
    "                color='white'))\n",
    "\n",
    "fig5.update_yaxes(showgrid=False, categoryorder='total ascending')"
   ]
  },
  {
   "cell_type": "markdown",
   "id": "8e848d51",
   "metadata": {
    "papermill": {
     "duration": 0.054879,
     "end_time": "2022-01-18T09:04:14.299169",
     "exception": false,
     "start_time": "2022-01-18T09:04:14.244290",
     "status": "completed"
    },
    "tags": []
   },
   "source": [
    "### Doanh số trung bình hàng ngày"
   ]
  },
  {
   "cell_type": "code",
   "execution_count": null,
   "id": "c0883afc",
   "metadata": {
    "_kg_hide-input": true,
    "execution": {
     "iopub.execute_input": "2022-01-18T09:04:14.417280Z",
     "iopub.status.busy": "2022-01-18T09:04:14.416314Z",
     "iopub.status.idle": "2022-01-18T09:04:14.539553Z",
     "shell.execute_reply": "2022-01-18T09:04:14.540035Z",
     "shell.execute_reply.started": "2022-01-18T08:56:56.216864Z"
    },
    "papermill": {
     "duration": 0.185946,
     "end_time": "2022-01-18T09:04:14.540199",
     "exception": false,
     "start_time": "2022-01-18T09:04:14.354253",
     "status": "completed"
    },
    "tags": []
   },
   "outputs": [],
   "source": [
    "df_day_sa = df_train1.groupby('date').agg({\"sales\" : \"mean\"}).reset_index()\n",
    "fig6 = go.Figure(data=[go.Scatter(x=df_day_sa['date'], y=df_day_sa['sales'], fill='tozeroy', fillcolor='#FAA831', line_color='#bA6800'                                 )])\n",
    "fig6.update_layout(title_text='Doanh số trung bình hằng ngày',height=300,paper_bgcolor='#232425',plot_bgcolor='#232425',\n",
    "                font=dict(\n",
    "                size=12,\n",
    "                color='white'))\n",
    "fig6.update_xaxes(showgrid=False)\n",
    "fig6.update_yaxes(showgrid=False)\n"
   ]
  },
  {
   "cell_type": "markdown",
   "id": "89fcb61f",
   "metadata": {
    "papermill": {
     "duration": 0.067286,
     "end_time": "2022-01-18T09:04:14.675991",
     "exception": false,
     "start_time": "2022-01-18T09:04:14.608705",
     "status": "completed"
    },
    "tags": []
   },
   "source": [
    "### Doanh số trung bình hàng tuần"
   ]
  },
  {
   "cell_type": "code",
   "execution_count": null,
   "id": "eecb963d",
   "metadata": {
    "_kg_hide-input": true,
    "execution": {
     "iopub.execute_input": "2022-01-18T09:04:14.818388Z",
     "iopub.status.busy": "2022-01-18T09:04:14.817749Z",
     "iopub.status.idle": "2022-01-18T09:04:14.897301Z",
     "shell.execute_reply": "2022-01-18T09:04:14.897766Z",
     "shell.execute_reply.started": "2022-01-18T08:56:56.393904Z"
    },
    "papermill": {
     "duration": 0.154613,
     "end_time": "2022-01-18T09:04:14.897943",
     "exception": false,
     "start_time": "2022-01-18T09:04:14.743330",
     "status": "completed"
    },
    "tags": []
   },
   "outputs": [],
   "source": [
    "df_w_sa = df_train1.groupby('week').agg({\"sales\" : \"mean\"}).reset_index()\n",
    "fig7 = go.Figure(data=[go.Scatter(x=df_w_sa['week'], y=df_w_sa['sales'], fill='tozeroy', fillcolor='#FAA831', line_color='#bA6800'\n",
    "                                  ,mode='lines+markers')])\n",
    "\n",
    "\n",
    "fig7.update_layout(title_text='Doanh số trung bình hàng tuần',height=300,paper_bgcolor='#232425',plot_bgcolor='#232425',\n",
    "                font=dict(\n",
    "                size=12,\n",
    "                color='white'))\n",
    "fig7.update_yaxes(showgrid=False)\n",
    "fig7.update_xaxes(showgrid=False,tickmode = 'array', tickvals=df_w_sa.week, ticktext=[i for i in range(1,53)])"
   ]
  },
  {
   "cell_type": "markdown",
   "id": "c2cbafac",
   "metadata": {
    "papermill": {
     "duration": 0.072804,
     "end_time": "2022-01-18T09:04:15.043048",
     "exception": false,
     "start_time": "2022-01-18T09:04:14.970244",
     "status": "completed"
    },
    "tags": []
   },
   "source": [
    "### Doanh số trung bình hàng tháng"
   ]
  },
  {
   "cell_type": "code",
   "execution_count": null,
   "id": "b0e92aeb",
   "metadata": {
    "_kg_hide-input": true,
    "execution": {
     "iopub.execute_input": "2022-01-18T09:04:15.191666Z",
     "iopub.status.busy": "2022-01-18T09:04:15.190949Z",
     "iopub.status.idle": "2022-01-18T09:04:15.265367Z",
     "shell.execute_reply": "2022-01-18T09:04:15.264890Z",
     "shell.execute_reply.started": "2022-01-18T08:56:56.490519Z"
    },
    "papermill": {
     "duration": 0.149682,
     "end_time": "2022-01-18T09:04:15.265528",
     "exception": false,
     "start_time": "2022-01-18T09:04:15.115846",
     "status": "completed"
    },
    "tags": []
   },
   "outputs": [],
   "source": [
    "df_mon_sa = df_train1.groupby('month').agg({\"sales\" : \"mean\"}).reset_index()\n",
    "fig8 = go.Figure(data=[go.Scatter(x=df_mon_sa['month'], y=df_mon_sa['sales'], fill='tozeroy', fillcolor='#FAA831', line_color='#bA6800'\n",
    "                                  ,mode='lines+markers')])\n",
    "\n",
    "\n",
    "fig8.update_layout(title_text='Doanh số trung bình hàng tháng',height=300,paper_bgcolor='#232425',plot_bgcolor='#232425',\n",
    "                font=dict(\n",
    "                size=12,\n",
    "                color='white'))\n",
    "fig8.update_yaxes(showgrid=False)\n",
    "fig8.update_xaxes(showgrid=False,tickmode = 'array', tickvals=df_mon_sa.month)"
   ]
  },
  {
   "cell_type": "markdown",
   "id": "3d8d04ff",
   "metadata": {
    "papermill": {
     "duration": 0.089247,
     "end_time": "2022-01-18T09:04:16.237914",
     "exception": false,
     "start_time": "2022-01-18T09:04:16.148667",
     "status": "completed"
    },
    "tags": []
   },
   "source": [
    "### Khu vực và thành phố"
   ]
  },
  {
   "cell_type": "code",
   "execution_count": null,
   "id": "db3419f7",
   "metadata": {
    "_kg_hide-input": true,
    "execution": {
     "iopub.execute_input": "2022-01-18T09:04:16.475752Z",
     "iopub.status.busy": "2022-01-18T09:04:16.475073Z",
     "iopub.status.idle": "2022-01-18T09:04:17.694270Z",
     "shell.execute_reply": "2022-01-18T09:04:17.694735Z",
     "shell.execute_reply.started": "2022-01-18T08:56:56.740263Z"
    },
    "papermill": {
     "duration": 1.369053,
     "end_time": "2022-01-18T09:04:17.694896",
     "exception": false,
     "start_time": "2022-01-18T09:04:16.325843",
     "status": "completed"
    },
    "scrolled": false,
    "tags": []
   },
   "outputs": [],
   "source": [
    "df_c_s_sa = df_train1.groupby(['state','city']).agg({\"sales\" : \"mean\"}).reset_index()\n",
    "df_c_s_sa=df_c_s_sa[df_c_s_sa.sales>0]\n",
    "fig9 = px.sunburst(df_c_s_sa, path=['state', 'city' ], \n",
    "                    values='sales',color='sales',\n",
    "                    color_continuous_scale=[colors['level1'], colors['level10']])\n",
    "\n",
    "fig9.update_layout(title_text='States & Cities',width = 700,paper_bgcolor='#232425',plot_bgcolor='#232425',font=dict(color=colors['text']))\n",
    "fig9.show()"
   ]
  },
  {
   "cell_type": "markdown",
   "id": "0edfd909",
   "metadata": {},
   "source": [
    "### Doanh số trung bình giữa loại cửa hàng và loại kì nghỉ"
   ]
  },
  {
   "cell_type": "code",
   "execution_count": null,
   "id": "a064b971",
   "metadata": {},
   "outputs": [],
   "source": [
    "df_st_ht = df_train1.groupby(['store_type','holiday_type']).agg({\"sales\" : \"mean\"}).reset_index()\n",
    "df_st_ht['sales'] = round(df_st_ht['sales'], 2)\n",
    "\n",
    "fig10 = px.scatter(df_st_ht, x='store_type', color='sales', y='holiday_type', size='sales',\n",
    "                 color_discrete_sequence=px.colors.qualitative.D3,\n",
    "                 title=\"Average Sales: Store Type Vs Holiday Type\")\n",
    "fig10.update_yaxes(ticksuffix='  ')\n",
    "fig10.update_layout(height=400, xaxis_title='', yaxis_title='',\n",
    "                  margin=dict(b=0),\n",
    "                  plot_bgcolor='#232425', paper_bgcolor='#232425',\n",
    "                  title_font=dict(size=29, color='#fafafa', family=\"Lato, sans-serif\"),\n",
    "                  font=dict(color='#fafafa'), \n",
    "                  hoverlabel=dict(bgcolor=\"#fafafa\", font_size=13, font_family=\"Lato, sans-serif\"))\n",
    "fig10.show()"
   ]
  },
  {
   "cell_type": "markdown",
   "id": "e9ac867a",
   "metadata": {},
   "source": [
    "**Các cửa hàng loại A luôn có doanh số bán hàng cao hơn các loại còn lại**"
   ]
  },
  {
   "cell_type": "markdown",
   "id": "58fb8a7a",
   "metadata": {},
   "source": [
    "### Doanh số trung bình giữa các tháng và loại kì nghỉ"
   ]
  },
  {
   "cell_type": "code",
   "execution_count": null,
   "id": "bf840f35",
   "metadata": {},
   "outputs": [],
   "source": [
    "df_m_ht = df_train1.groupby(['month','holiday_type']).agg({\"sales\" : \"mean\"}).reset_index()\n",
    "df_m_ht['sales'] = round(df_m_ht['sales'], 2)\n",
    "\n",
    "fig11 = px.scatter(df_m_ht, x='month', color='sales', y='holiday_type', size='sales',\n",
    "                 color_discrete_sequence=px.colors.qualitative.D3,\n",
    "                 title=\"Doanh số trung bình giữa các tháng và loại kì nghỉ\")\n",
    "\n",
    "fig11.update_yaxes(ticksuffix='  ')\n",
    "fig11.update_xaxes(tickmode = 'array', tickvals=[i for i in range(1,13)], \n",
    "                 ticktext=['Jan','Feb','Mar','Apr','May','Jun','Jul','Aug','Sep','Oct','Nov','Dec'])\n",
    "fig11.update_layout(height=400, xaxis_title='', yaxis_title='',\n",
    "                  margin=dict(b=0),\n",
    "                  plot_bgcolor='#232425', paper_bgcolor='#232425',\n",
    "                  title_font=dict(size=29, color='#fafafa', family=\"Lato, sans-serif\"),\n",
    "                  font=dict(color='#fafafa'), \n",
    "                  hoverlabel=dict(bgcolor=\"#fafafa\", font_size=13, font_family=\"Lato, sans-serif\"))\n",
    "fig11.show()"
   ]
  },
  {
   "cell_type": "markdown",
   "id": "e8d04b3c",
   "metadata": {},
   "source": [
    "**Doanh số bán hàng cao ở các tháng 11, 12, 1, 5**"
   ]
  },
  {
   "cell_type": "markdown",
   "id": "7425e2a1",
   "metadata": {},
   "source": [
    "### Doanh số trung bình giữa các năm và loại kì nghỉ"
   ]
  },
  {
   "cell_type": "code",
   "execution_count": null,
   "id": "fa1ce3c1",
   "metadata": {},
   "outputs": [],
   "source": [
    "df_y_m_ht = df_train1.groupby(['year','month','holiday_type']).agg({\"sales\" : \"mean\"}).reset_index()\n",
    "df_y_m_ht['sales'] = round(df_y_m_ht['sales'], 2)\n",
    "\n",
    "fig12 = px.scatter(df_y_m_ht, x='month', y='holiday_type', color='sales', size='sales', \n",
    "                 facet_row='year', title='Doanh số trung bình giữa các năm và loại kì nghỉ')\n",
    "\n",
    "fig12.update_yaxes(ticksuffix='  ')\n",
    "fig12.update_xaxes(tickmode = 'array', tickvals=[i for i in range(1,13)], \n",
    "                 ticktext=['Jan','Feb','Mar','Apr','May','Jun','Jul','Aug','Sep','Oct','Nov','Dec'])\n",
    "fig12.update_layout(height=900, xaxis_title='', yaxis_title='',\n",
    "                  margin=dict(t=70, b=0),\n",
    "                  plot_bgcolor='#232425', paper_bgcolor='#232425',\n",
    "                  title_font=dict(size=29, color='#fafafa', family=\"Lato, sans-serif\"),\n",
    "                  font=dict(color='#fafafa'), \n",
    "                  hoverlabel=dict(bgcolor=\"#f2f2f2\", font_size=13, font_family=\"Lato, sans-serif\"))\n",
    "fig12.show()"
   ]
  },
  {
   "cell_type": "markdown",
   "id": "94cd1fc9",
   "metadata": {},
   "source": [
    "**Nhu cầu mua hàng qua các năm và tháng ngày càng tăng cao**"
   ]
  },
  {
   "cell_type": "markdown",
   "id": "4e54cd78",
   "metadata": {},
   "source": [
    "# Dashboard"
   ]
  },
  {
   "cell_type": "code",
   "execution_count": null,
   "id": "8b214f1d",
   "metadata": {},
   "outputs": [],
   "source": [
    "external_stylesheets = ['https://codepen.io/chriddyp/pen/bWLwgP.css']\n",
    "app = dash.Dash(__name__, external_stylesheets = external_stylesheets)\n",
    "\n",
    "graph1 = dcc.Graph(\n",
    "        id='fig1',\n",
    "        figure=fig1,\n",
    "        className=\"six columns\" \n",
    "    )\n",
    "graph2 = dcc.Graph(\n",
    "        id='fig2',\n",
    "        figure=fig2,\n",
    "        className=\"six columns\"\n",
    "    )\n",
    "graph3 = dcc.Graph(\n",
    "        id='fig3',\n",
    "        figure=fig3,\n",
    "        className=\"six columns\"\n",
    "    )\n",
    "graph4 = dcc.Graph(\n",
    "        id='fig4',\n",
    "        figure=fig4,\n",
    "        className=\"six columns\"\n",
    "    )\n",
    "graph5 = dcc.Graph(\n",
    "        id='fig5',\n",
    "        figure=fig5,\n",
    "        className=\"six columns\"\n",
    "    )\n",
    "graph6 = dcc.Graph(\n",
    "        id='fig6',\n",
    "        figure=fig6,\n",
    "        className=\"twelve columns\"\n",
    "    )\n",
    "graph7 = dcc.Graph(\n",
    "        id='fig7',\n",
    "        figure=fig7,\n",
    "        className=\"twelve columns\"\n",
    "    )\n",
    "graph8 = dcc.Graph(\n",
    "        id='fig8',\n",
    "        figure=fig8,\n",
    "        className=\"twelve columns\"\n",
    "    )\n",
    "graph9 = dcc.Graph(\n",
    "        id='fig9',\n",
    "        figure=fig9,\n",
    "        className=\"six columns\"\n",
    "    )\n",
    "graph10 = dcc.Graph(\n",
    "        id='fig10',\n",
    "        figure=fig10,\n",
    "        className=\"six columns\"\n",
    "    )\n",
    "graph11 = dcc.Graph(\n",
    "        id='fig11',\n",
    "        figure=fig11,\n",
    "        className=\"six columns\"\n",
    "    )  \n",
    "graph12 = dcc.Graph(\n",
    "        id='fig12',\n",
    "        figure=fig12,\n",
    "        className=\"twelve columns\"\n",
    "    )   \n",
    "\n",
    "header = html.H2(children=\"Store sales forecasting\",className=\"card_container\")\n",
    "\n",
    "row1 = html.Div(children=[graph1, graph5])\n",
    "row2 = html.Div(children=[graph3, graph4])\n",
    "row3 = html.Div(children=[graph2, graph9])\n",
    "row7 = html.Div(children=[graph10, graph11])\n",
    "row4 = html.Div(children=[graph6])\n",
    "row5 = html.Div(children=[graph7])\n",
    "row6 = html.Div(children=[graph8])\n",
    "row8 = html.Div(children=[graph12])\n",
    "\n",
    "layout = html.Div(children=[header, row1, row2,row3,row7,row4,row5,row6,row8], style={\"text-align\": \"center\"})\n",
    "app.layout = layout   \n",
    "\n",
    "\n",
    "if __name__ == \"__main__\":\n",
    "    app.run_server()"
   ]
  },
  {
   "cell_type": "code",
   "execution_count": null,
   "id": "6716f529",
   "metadata": {},
   "outputs": [],
   "source": []
  }
 ],
 "metadata": {
  "kernelspec": {
   "display_name": "Python 3 (ipykernel)",
   "language": "python",
   "name": "python3"
  },
  "language_info": {
   "codemirror_mode": {
    "name": "ipython",
    "version": 3
   },
   "file_extension": ".py",
   "mimetype": "text/x-python",
   "name": "python",
   "nbconvert_exporter": "python",
   "pygments_lexer": "ipython3",
   "version": "3.9.12"
  },
  "papermill": {
   "default_parameters": {},
   "duration": 33.753342,
   "end_time": "2022-01-18T09:04:18.697867",
   "environment_variables": {},
   "exception": null,
   "input_path": "__notebook__.ipynb",
   "output_path": "__notebook__.ipynb",
   "parameters": {},
   "start_time": "2022-01-18T09:03:44.944525",
   "version": "2.3.3"
  }
 },
 "nbformat": 4,
 "nbformat_minor": 5
}
